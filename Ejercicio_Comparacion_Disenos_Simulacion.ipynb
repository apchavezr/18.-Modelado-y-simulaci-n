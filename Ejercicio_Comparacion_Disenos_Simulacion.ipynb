{
  "cells": [
    {
      "cell_type": "markdown",
      "metadata": {
        "id": "view-in-github",
        "colab_type": "text"
      },
      "source": [
        "<a href=\"https://colab.research.google.com/github/apchavezr/18.-Modelado-y-simulaci-n/blob/main/Ejercicio_Comparacion_Disenos_Simulacion.ipynb\" target=\"_parent\"><img src=\"https://colab.research.google.com/assets/colab-badge.svg\" alt=\"Open In Colab\"/></a>"
      ]
    },
    {
      "cell_type": "markdown",
      "metadata": {
        "id": "79xZIBVz6ydp"
      },
      "source": [
        "# Ejercicio práctico en Python\n",
        "## Comparación de métodos de generación de variables aleatorias exponenciales"
      ],
      "id": "79xZIBVz6ydp"
    },
    {
      "cell_type": "markdown",
      "metadata": {
        "id": "oOY1t1tM6ydq"
      },
      "source": [
        "###  Objetivo del ejercicio\n",
        "Comparar dos diseños de simulación para la generación de variables aleatorias con distribución exponencial mediante análisis estadístico (media, desviación, prueba t, visualización y conclusiones)."
      ],
      "id": "oOY1t1tM6ydq"
    },
    {
      "cell_type": "code",
      "execution_count": 1,
      "metadata": {
        "id": "_VgeBCUN6ydr"
      },
      "outputs": [],
      "source": [
        "# Paso 1: Importar las bibliotecas necesarias\n",
        "import numpy as np\n",
        "import matplotlib.pyplot as plt\n",
        "from scipy import stats\n",
        "import pandas as pd"
      ],
      "id": "_VgeBCUN6ydr"
    },
    {
      "cell_type": "markdown",
      "source": [
        "# Definir funciones para los dos diseños\n",
        "\n",
        "* **Diseño A:** método de transformación inversa.\n",
        "\n",
        "* **Diseño B:** método de aceptación-rechazo con distribución uniforme para comparación."
      ],
      "metadata": {
        "id": "zTmQSgg37AiJ"
      },
      "id": "zTmQSgg37AiJ"
    },
    {
      "cell_type": "code",
      "execution_count": 2,
      "metadata": {
        "id": "rm8pAiT46yds"
      },
      "outputs": [],
      "source": [
        "# Paso 2: Definir funciones para los dos diseños\n",
        "def generar_exponencial_inversa(lambd, n):\n",
        "    u = np.random.uniform(0, 1, n)\n",
        "    return -np.log(1 - u) / lambd\n",
        "\n",
        "def generar_exponencial_aceptacion_rechazo(lambd, n):\n",
        "    muestras = []\n",
        "    while len(muestras) < n:\n",
        "        u1 = np.random.uniform(0, 1)\n",
        "        u2 = np.random.uniform(0, 1)\n",
        "        y = -np.log(1 - u1) / lambd\n",
        "        if u2 <= np.exp(-lambd * y):\n",
        "            muestras.append(y)\n",
        "    return np.array(muestras)"
      ],
      "id": "rm8pAiT46yds"
    },
    {
      "cell_type": "code",
      "execution_count": 3,
      "metadata": {
        "id": "4DszW7TJ6ydt"
      },
      "outputs": [],
      "source": [
        "# Paso 3: Generar las réplicas\n",
        "np.random.seed(42)\n",
        "n_replicas = 30\n",
        "tasa_llegada = 0.2\n",
        "\n",
        "diseño_A = [np.mean(generar_exponencial_inversa(tasa_llegada, 1000)) for _ in range(n_replicas)]\n",
        "diseño_B = [np.mean(generar_exponencial_aceptacion_rechazo(tasa_llegada, 1000)) for _ in range(n_replicas)]"
      ],
      "id": "4DszW7TJ6ydt"
    },
    {
      "cell_type": "code",
      "execution_count": 4,
      "metadata": {
        "colab": {
          "base_uri": "https://localhost:8080/",
          "height": 300
        },
        "id": "QRuhD_Z16ydt",
        "outputId": "d30b7444-d46a-4397-cccc-2e126ce51171"
      },
      "outputs": [
        {
          "output_type": "execute_result",
          "data": {
            "text/plain": [
              "       Diseño A (Inversa)  Diseño B (Aceptación-Rechazo)\n",
              "count           30.000000                      30.000000\n",
              "mean             4.987145                       2.511847\n",
              "std              0.189435                       0.084368\n",
              "min              4.657119                       2.319162\n",
              "25%              4.841578                       2.457418\n",
              "50%              4.998017                       2.516354\n",
              "75%              5.122167                       2.576128\n",
              "max              5.388003                       2.624942"
            ],
            "text/html": [
              "\n",
              "  <div id=\"df-91307169-1530-4e2d-9f74-ecc425909008\" class=\"colab-df-container\">\n",
              "    <div>\n",
              "<style scoped>\n",
              "    .dataframe tbody tr th:only-of-type {\n",
              "        vertical-align: middle;\n",
              "    }\n",
              "\n",
              "    .dataframe tbody tr th {\n",
              "        vertical-align: top;\n",
              "    }\n",
              "\n",
              "    .dataframe thead th {\n",
              "        text-align: right;\n",
              "    }\n",
              "</style>\n",
              "<table border=\"1\" class=\"dataframe\">\n",
              "  <thead>\n",
              "    <tr style=\"text-align: right;\">\n",
              "      <th></th>\n",
              "      <th>Diseño A (Inversa)</th>\n",
              "      <th>Diseño B (Aceptación-Rechazo)</th>\n",
              "    </tr>\n",
              "  </thead>\n",
              "  <tbody>\n",
              "    <tr>\n",
              "      <th>count</th>\n",
              "      <td>30.000000</td>\n",
              "      <td>30.000000</td>\n",
              "    </tr>\n",
              "    <tr>\n",
              "      <th>mean</th>\n",
              "      <td>4.987145</td>\n",
              "      <td>2.511847</td>\n",
              "    </tr>\n",
              "    <tr>\n",
              "      <th>std</th>\n",
              "      <td>0.189435</td>\n",
              "      <td>0.084368</td>\n",
              "    </tr>\n",
              "    <tr>\n",
              "      <th>min</th>\n",
              "      <td>4.657119</td>\n",
              "      <td>2.319162</td>\n",
              "    </tr>\n",
              "    <tr>\n",
              "      <th>25%</th>\n",
              "      <td>4.841578</td>\n",
              "      <td>2.457418</td>\n",
              "    </tr>\n",
              "    <tr>\n",
              "      <th>50%</th>\n",
              "      <td>4.998017</td>\n",
              "      <td>2.516354</td>\n",
              "    </tr>\n",
              "    <tr>\n",
              "      <th>75%</th>\n",
              "      <td>5.122167</td>\n",
              "      <td>2.576128</td>\n",
              "    </tr>\n",
              "    <tr>\n",
              "      <th>max</th>\n",
              "      <td>5.388003</td>\n",
              "      <td>2.624942</td>\n",
              "    </tr>\n",
              "  </tbody>\n",
              "</table>\n",
              "</div>\n",
              "    <div class=\"colab-df-buttons\">\n",
              "\n",
              "  <div class=\"colab-df-container\">\n",
              "    <button class=\"colab-df-convert\" onclick=\"convertToInteractive('df-91307169-1530-4e2d-9f74-ecc425909008')\"\n",
              "            title=\"Convert this dataframe to an interactive table.\"\n",
              "            style=\"display:none;\">\n",
              "\n",
              "  <svg xmlns=\"http://www.w3.org/2000/svg\" height=\"24px\" viewBox=\"0 -960 960 960\">\n",
              "    <path d=\"M120-120v-720h720v720H120Zm60-500h600v-160H180v160Zm220 220h160v-160H400v160Zm0 220h160v-160H400v160ZM180-400h160v-160H180v160Zm440 0h160v-160H620v160ZM180-180h160v-160H180v160Zm440 0h160v-160H620v160Z\"/>\n",
              "  </svg>\n",
              "    </button>\n",
              "\n",
              "  <style>\n",
              "    .colab-df-container {\n",
              "      display:flex;\n",
              "      gap: 12px;\n",
              "    }\n",
              "\n",
              "    .colab-df-convert {\n",
              "      background-color: #E8F0FE;\n",
              "      border: none;\n",
              "      border-radius: 50%;\n",
              "      cursor: pointer;\n",
              "      display: none;\n",
              "      fill: #1967D2;\n",
              "      height: 32px;\n",
              "      padding: 0 0 0 0;\n",
              "      width: 32px;\n",
              "    }\n",
              "\n",
              "    .colab-df-convert:hover {\n",
              "      background-color: #E2EBFA;\n",
              "      box-shadow: 0px 1px 2px rgba(60, 64, 67, 0.3), 0px 1px 3px 1px rgba(60, 64, 67, 0.15);\n",
              "      fill: #174EA6;\n",
              "    }\n",
              "\n",
              "    .colab-df-buttons div {\n",
              "      margin-bottom: 4px;\n",
              "    }\n",
              "\n",
              "    [theme=dark] .colab-df-convert {\n",
              "      background-color: #3B4455;\n",
              "      fill: #D2E3FC;\n",
              "    }\n",
              "\n",
              "    [theme=dark] .colab-df-convert:hover {\n",
              "      background-color: #434B5C;\n",
              "      box-shadow: 0px 1px 3px 1px rgba(0, 0, 0, 0.15);\n",
              "      filter: drop-shadow(0px 1px 2px rgba(0, 0, 0, 0.3));\n",
              "      fill: #FFFFFF;\n",
              "    }\n",
              "  </style>\n",
              "\n",
              "    <script>\n",
              "      const buttonEl =\n",
              "        document.querySelector('#df-91307169-1530-4e2d-9f74-ecc425909008 button.colab-df-convert');\n",
              "      buttonEl.style.display =\n",
              "        google.colab.kernel.accessAllowed ? 'block' : 'none';\n",
              "\n",
              "      async function convertToInteractive(key) {\n",
              "        const element = document.querySelector('#df-91307169-1530-4e2d-9f74-ecc425909008');\n",
              "        const dataTable =\n",
              "          await google.colab.kernel.invokeFunction('convertToInteractive',\n",
              "                                                    [key], {});\n",
              "        if (!dataTable) return;\n",
              "\n",
              "        const docLinkHtml = 'Like what you see? Visit the ' +\n",
              "          '<a target=\"_blank\" href=https://colab.research.google.com/notebooks/data_table.ipynb>data table notebook</a>'\n",
              "          + ' to learn more about interactive tables.';\n",
              "        element.innerHTML = '';\n",
              "        dataTable['output_type'] = 'display_data';\n",
              "        await google.colab.output.renderOutput(dataTable, element);\n",
              "        const docLink = document.createElement('div');\n",
              "        docLink.innerHTML = docLinkHtml;\n",
              "        element.appendChild(docLink);\n",
              "      }\n",
              "    </script>\n",
              "  </div>\n",
              "\n",
              "\n",
              "    <div id=\"df-f1c151c0-ef7f-4691-ad02-91c8d251ce45\">\n",
              "      <button class=\"colab-df-quickchart\" onclick=\"quickchart('df-f1c151c0-ef7f-4691-ad02-91c8d251ce45')\"\n",
              "                title=\"Suggest charts\"\n",
              "                style=\"display:none;\">\n",
              "\n",
              "<svg xmlns=\"http://www.w3.org/2000/svg\" height=\"24px\"viewBox=\"0 0 24 24\"\n",
              "     width=\"24px\">\n",
              "    <g>\n",
              "        <path d=\"M19 3H5c-1.1 0-2 .9-2 2v14c0 1.1.9 2 2 2h14c1.1 0 2-.9 2-2V5c0-1.1-.9-2-2-2zM9 17H7v-7h2v7zm4 0h-2V7h2v10zm4 0h-2v-4h2v4z\"/>\n",
              "    </g>\n",
              "</svg>\n",
              "      </button>\n",
              "\n",
              "<style>\n",
              "  .colab-df-quickchart {\n",
              "      --bg-color: #E8F0FE;\n",
              "      --fill-color: #1967D2;\n",
              "      --hover-bg-color: #E2EBFA;\n",
              "      --hover-fill-color: #174EA6;\n",
              "      --disabled-fill-color: #AAA;\n",
              "      --disabled-bg-color: #DDD;\n",
              "  }\n",
              "\n",
              "  [theme=dark] .colab-df-quickchart {\n",
              "      --bg-color: #3B4455;\n",
              "      --fill-color: #D2E3FC;\n",
              "      --hover-bg-color: #434B5C;\n",
              "      --hover-fill-color: #FFFFFF;\n",
              "      --disabled-bg-color: #3B4455;\n",
              "      --disabled-fill-color: #666;\n",
              "  }\n",
              "\n",
              "  .colab-df-quickchart {\n",
              "    background-color: var(--bg-color);\n",
              "    border: none;\n",
              "    border-radius: 50%;\n",
              "    cursor: pointer;\n",
              "    display: none;\n",
              "    fill: var(--fill-color);\n",
              "    height: 32px;\n",
              "    padding: 0;\n",
              "    width: 32px;\n",
              "  }\n",
              "\n",
              "  .colab-df-quickchart:hover {\n",
              "    background-color: var(--hover-bg-color);\n",
              "    box-shadow: 0 1px 2px rgba(60, 64, 67, 0.3), 0 1px 3px 1px rgba(60, 64, 67, 0.15);\n",
              "    fill: var(--button-hover-fill-color);\n",
              "  }\n",
              "\n",
              "  .colab-df-quickchart-complete:disabled,\n",
              "  .colab-df-quickchart-complete:disabled:hover {\n",
              "    background-color: var(--disabled-bg-color);\n",
              "    fill: var(--disabled-fill-color);\n",
              "    box-shadow: none;\n",
              "  }\n",
              "\n",
              "  .colab-df-spinner {\n",
              "    border: 2px solid var(--fill-color);\n",
              "    border-color: transparent;\n",
              "    border-bottom-color: var(--fill-color);\n",
              "    animation:\n",
              "      spin 1s steps(1) infinite;\n",
              "  }\n",
              "\n",
              "  @keyframes spin {\n",
              "    0% {\n",
              "      border-color: transparent;\n",
              "      border-bottom-color: var(--fill-color);\n",
              "      border-left-color: var(--fill-color);\n",
              "    }\n",
              "    20% {\n",
              "      border-color: transparent;\n",
              "      border-left-color: var(--fill-color);\n",
              "      border-top-color: var(--fill-color);\n",
              "    }\n",
              "    30% {\n",
              "      border-color: transparent;\n",
              "      border-left-color: var(--fill-color);\n",
              "      border-top-color: var(--fill-color);\n",
              "      border-right-color: var(--fill-color);\n",
              "    }\n",
              "    40% {\n",
              "      border-color: transparent;\n",
              "      border-right-color: var(--fill-color);\n",
              "      border-top-color: var(--fill-color);\n",
              "    }\n",
              "    60% {\n",
              "      border-color: transparent;\n",
              "      border-right-color: var(--fill-color);\n",
              "    }\n",
              "    80% {\n",
              "      border-color: transparent;\n",
              "      border-right-color: var(--fill-color);\n",
              "      border-bottom-color: var(--fill-color);\n",
              "    }\n",
              "    90% {\n",
              "      border-color: transparent;\n",
              "      border-bottom-color: var(--fill-color);\n",
              "    }\n",
              "  }\n",
              "</style>\n",
              "\n",
              "      <script>\n",
              "        async function quickchart(key) {\n",
              "          const quickchartButtonEl =\n",
              "            document.querySelector('#' + key + ' button');\n",
              "          quickchartButtonEl.disabled = true;  // To prevent multiple clicks.\n",
              "          quickchartButtonEl.classList.add('colab-df-spinner');\n",
              "          try {\n",
              "            const charts = await google.colab.kernel.invokeFunction(\n",
              "                'suggestCharts', [key], {});\n",
              "          } catch (error) {\n",
              "            console.error('Error during call to suggestCharts:', error);\n",
              "          }\n",
              "          quickchartButtonEl.classList.remove('colab-df-spinner');\n",
              "          quickchartButtonEl.classList.add('colab-df-quickchart-complete');\n",
              "        }\n",
              "        (() => {\n",
              "          let quickchartButtonEl =\n",
              "            document.querySelector('#df-f1c151c0-ef7f-4691-ad02-91c8d251ce45 button');\n",
              "          quickchartButtonEl.style.display =\n",
              "            google.colab.kernel.accessAllowed ? 'block' : 'none';\n",
              "        })();\n",
              "      </script>\n",
              "    </div>\n",
              "\n",
              "    </div>\n",
              "  </div>\n"
            ],
            "application/vnd.google.colaboratory.intrinsic+json": {
              "type": "dataframe",
              "summary": "{\n  \"name\": \"df\",\n  \"rows\": 8,\n  \"fields\": [\n    {\n      \"column\": \"Dise\\u00f1o A (Inversa)\",\n      \"properties\": {\n        \"dtype\": \"number\",\n        \"std\": 9.239111840041787,\n        \"min\": 0.18943534770530793,\n        \"max\": 30.0,\n        \"num_unique_values\": 8,\n        \"samples\": [\n          4.9871451931827595,\n          4.998016685460197,\n          30.0\n        ],\n        \"semantic_type\": \"\",\n        \"description\": \"\"\n      }\n    },\n    {\n      \"column\": \"Dise\\u00f1o B (Aceptaci\\u00f3n-Rechazo)\",\n      \"properties\": {\n        \"dtype\": \"number\",\n        \"std\": 9.881091006725981,\n        \"min\": 0.08436829698664396,\n        \"max\": 30.0,\n        \"num_unique_values\": 8,\n        \"samples\": [\n          2.5118469093512505,\n          2.516354309590061,\n          30.0\n        ],\n        \"semantic_type\": \"\",\n        \"description\": \"\"\n      }\n    }\n  ]\n}"
            }
          },
          "metadata": {},
          "execution_count": 4
        }
      ],
      "source": [
        "# Paso 4: Crear un DataFrame con los resultados\n",
        "df = pd.DataFrame({\n",
        "    'Diseño A (Inversa)': diseño_A,\n",
        "    'Diseño B (Aceptación-Rechazo)': diseño_B\n",
        "})\n",
        "df.describe()"
      ],
      "id": "QRuhD_Z16ydt"
    },
    {
      "cell_type": "code",
      "execution_count": 5,
      "metadata": {
        "colab": {
          "base_uri": "https://localhost:8080/",
          "height": 524
        },
        "id": "EVwcm0oa6ydu",
        "outputId": "388e2226-e980-457d-fa7d-1da34d3e187c"
      },
      "outputs": [
        {
          "output_type": "stream",
          "name": "stderr",
          "text": [
            "/tmp/ipython-input-5-3858543211.py:3: MatplotlibDeprecationWarning: The 'labels' parameter of boxplot() has been renamed 'tick_labels' since Matplotlib 3.9; support for the old name will be dropped in 3.11.\n",
            "  plt.boxplot([diseño_A, diseño_B], labels=['Inversa', 'Aceptación-Rechazo'])\n"
          ]
        },
        {
          "output_type": "display_data",
          "data": {
            "text/plain": [
              "<Figure size 1000x500 with 1 Axes>"
            ],
            "image/png": "[encoded data removed]"
          },
          "metadata": {}
        }
      ],
      "source": [
        "# Paso 5: Visualización comparativa\n",
        "plt.figure(figsize=(10, 5))\n",
        "plt.boxplot([diseño_A, diseño_B], labels=['Inversa', 'Aceptación-Rechazo'])\n",
        "plt.title('Comparación de medias por réplica para cada diseño')\n",
        "plt.ylabel('Media de muestras exponenciales')\n",
        "plt.grid(True)\n",
        "plt.show()"
      ],
      "id": "EVwcm0oa6ydu"
    },
    {
      "cell_type": "code",
      "execution_count": 6,
      "metadata": {
        "colab": {
          "base_uri": "https://localhost:8080/"
        },
        "id": "swhRa-9N6ydu",
        "outputId": "4cc46a25-e7c0-43cc-a401-6eeee0f58ccc"
      },
      "outputs": [
        {
          "output_type": "stream",
          "name": "stdout",
          "text": [
            "IC 95% Diseño A: (np.float64(4.9164088718306935), np.float64(5.0578815145348255))\n",
            "IC 95% Diseño B: (np.float64(2.480343269508608), np.float64(2.5433505491938933))\n"
          ]
        }
      ],
      "source": [
        "# Paso 6: Cálculo de intervalos de confianza\n",
        "def intervalo_confianza(data, alpha=0.05):\n",
        "    n = len(data)\n",
        "    media = np.mean(data)\n",
        "    std_err = stats.sem(data)\n",
        "    h = stats.t.ppf(1 - alpha/2, df=n-1) * std_err\n",
        "    return (media - h, media + h)\n",
        "\n",
        "ic_a = intervalo_confianza(diseño_A)\n",
        "ic_b = intervalo_confianza(diseño_B)\n",
        "\n",
        "print(f\"IC 95% Diseño A: {ic_a}\")\n",
        "print(f\"IC 95% Diseño B: {ic_b}\")"
      ],
      "id": "swhRa-9N6ydu"
    },
    {
      "cell_type": "markdown",
      "source": [
        "**Diferencias en las medias**\n",
        "\n",
        "Los intervalos de confianza (IC) al 95% para la media de cada diseño fueron:\n",
        "\n",
        "* Diseño A (Transformación Inversa):\n",
        "* C 95% ≈ [4.916, 5.058]\n",
        "\n",
        "* Diseño B (Aceptación-Rechazo):\n",
        "* IC 95% ≈ [2.480, 2.543]\n",
        "\n",
        "Esto indica que el promedio de los valores generados por el Diseño A es aproximadamente el doble que el del Diseño B. Aunque ambos diseños intentan simular la misma distribución exponencial con $λ=0.2$   (esperanza $E[X]=1/λ=5E[X]=1/λ=5$), el Diseño B no logra una media cercana a este valor teórico, lo que sugiere una implementación o lógica incorrecta en su construcción."
      ],
      "metadata": {
        "id": "RMY_uwzY86vh"
      },
      "id": "RMY_uwzY86vh"
    },
    {
      "cell_type": "code",
      "execution_count": 7,
      "metadata": {
        "colab": {
          "base_uri": "https://localhost:8080/"
        },
        "id": "r68-eK9C6ydv",
        "outputId": "df6ebd72-2375-4418-a2e9-952d85540e97"
      },
      "outputs": [
        {
          "output_type": "stream",
          "name": "stdout",
          "text": [
            "Valor t: 65.3785\n",
            "Valor p: 0.0000\n",
            "Se rechaza H0: hay diferencia significativa entre los diseños.\n"
          ]
        }
      ],
      "source": [
        "# Paso 7: Prueba t para comparación de medias\n",
        "t_stat, p_value = stats.ttest_ind(diseño_A, diseño_B, equal_var=False)\n",
        "\n",
        "print(f\"Valor t: {t_stat:.4f}\")\n",
        "print(f\"Valor p: {p_value:.4f}\")\n",
        "\n",
        "if p_value < 0.05:\n",
        "    print(\"Se rechaza H0: hay diferencia significativa entre los diseños.\")\n",
        "else:\n",
        "    print(\"No se rechaza H0: no hay diferencia significativa entre los diseños.\")"
      ],
      "id": "r68-eK9C6ydv"
    },
    {
      "cell_type": "markdown",
      "source": [
        "**Resultado de la prueba t**\n",
        "\n",
        "* Valor t: 65.3785\n",
        "* Valor p: 0.0000\n",
        "\n",
        "Como el valor $p$ es significativamente menor a 0.05, se rechaza la hipótesis nula $H_0$​ de igualdad de medias. Por tanto, existe evidencia estadística fuerte de que los dos métodos generan resultados significativamente diferentes."
      ],
      "metadata": {
        "id": "H8PMVqWv9ILZ"
      },
      "id": "H8PMVqWv9ILZ"
    },
    {
      "cell_type": "markdown",
      "source": [
        "**Interpretación técnica**\n",
        "\n",
        "El diseño A, que implementa correctamente el método de la transformación inversa para la distribución exponencial con $λ=0.2$, genera salidas con una media muy próxima a 5, como se espera teóricamente. En cambio, el diseño B genera valores con una media aproximada de 2.51, lo cual indica un sesgo sistemático o un error en el criterio de aceptación-rechazo.\n",
        "\n",
        "Este comportamiento puede estar relacionado con la incorrecta selección de la función de aceptación. En el método de aceptación-rechazo para generar variables exponenciales, es necesario definir una función mayorante $g(y)$ y una constante $c$ tal que:\n",
        "$$f(y)≤c⋅g(y),∀y∈dominio$$\n",
        "\n",
        "No parece haberse implementado adecuadamente este criterio en el diseño B, lo que genera un sesgo considerable en los resultados."
      ],
      "metadata": {
        "id": "pfdpjgr09SfR"
      },
      "id": "pfdpjgr09SfR"
    },
    {
      "cell_type": "markdown",
      "source": [
        "**Conclusión final**\n",
        "\n",
        "El Diseño A es significativamente más preciso y confiable para la generación de variables aleatorias exponenciales con parámetro $λ=0.2$. El Diseño B debe ser revisado y corregido, ya que su salida promedio no se ajusta a las propiedades teóricas esperadas de la distribución objetivo. Para usos prácticos en simulación donde se requiere confiabilidad en los generadores aleatorios, debe preferirse el Diseño A."
      ],
      "metadata": {
        "id": "o-p0AJ9I9b3i"
      },
      "id": "o-p0AJ9I9b3i"
    }
  ],
  "metadata": {
    "kernelspec": {
      "display_name": "Python 3",
      "language": "python",
      "name": "python3"
    },
    "language_info": {
      "name": "python",
      "version": ""
    },
    "colab": {
      "provenance": [],
      "include_colab_link": true
    }
  },
  "nbformat": 4,
  "nbformat_minor": 5
}