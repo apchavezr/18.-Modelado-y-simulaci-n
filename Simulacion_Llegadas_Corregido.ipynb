{
  "cells": [
    {
      "cell_type": "markdown",
      "metadata": {
        "id": "view-in-github",
        "colab_type": "text"
      },
      "source": [
        "<a href=\"https://colab.research.google.com/github/apchavezr/18.-Modelado-y-simulaci-n/blob/main/Simulacion_Llegadas_Corregido.ipynb\" target=\"_parent\"><img src=\"https://colab.research.google.com/assets/colab-badge.svg\" alt=\"Open In Colab\"/></a>"
      ]
    },
    {
      "cell_type": "markdown",
      "id": "95586ab6",
      "metadata": {
        "id": "95586ab6"
      },
      "source": [
        "# Simulación de llegadas a un sistema\n",
        "Este notebook ilustra cómo generar tiempos entre llegadas de clientes a una tienda usando la distribución exponencial con parámetro \\( \\lambda = 2 \\). Se utiliza la técnica de la función inversa."
      ]
    },
    {
      "cell_type": "code",
      "execution_count": 1,
      "id": "2a8fd340",
      "metadata": {
        "id": "2a8fd340"
      },
      "outputs": [],
      "source": [
        "# Paso 1: importar las bibliotecas necesarias\n",
        "import random\n",
        "import math"
      ]
    },
    {
      "cell_type": "code",
      "execution_count": 2,
      "id": "6afd2716",
      "metadata": {
        "id": "6afd2716"
      },
      "outputs": [],
      "source": [
        "# Paso 2: definir el parámetro de llegada\n",
        "lambd = 2  # tasa de llegadas por unidad de tiempo"
      ]
    },
    {
      "cell_type": "code",
      "execution_count": 3,
      "id": "ceed7ce4",
      "metadata": {
        "id": "ceed7ce4",
        "outputId": "5257e838-da87-4891-a627-6e50acfc8bbd",
        "colab": {
          "base_uri": "https://localhost:8080/"
        }
      },
      "outputs": [
        {
          "output_type": "stream",
          "name": "stdout",
          "text": [
            "Tiempo hasta la próxima llegada: 1.1144 unidades de tiempo\n"
          ]
        }
      ],
      "source": [
        "# Paso 3 y 4: generar número uniforme y transformarlo a variable exponencial\n",
        "u = random.random()\n",
        "tiempo_llegada = -math.log(1 - u) / lambd  # o usar log(u)\n",
        "print(f\"Tiempo hasta la próxima llegada: {tiempo_llegada:.4f} unidades de tiempo\")"
      ]
    },
    {
      "cell_type": "markdown",
      "id": "653379a8",
      "metadata": {
        "id": "653379a8"
      },
      "source": [
        "## Generación de múltiples tiempos entre llegadas"
      ]
    },
    {
      "cell_type": "code",
      "execution_count": 4,
      "id": "0c760117",
      "metadata": {
        "id": "0c760117",
        "outputId": "3f3a40f3-d9af-4f71-ac29-bec37ea035a8",
        "colab": {
          "base_uri": "https://localhost:8080/"
        }
      },
      "outputs": [
        {
          "output_type": "stream",
          "name": "stdout",
          "text": [
            "Tiempos entre llegadas simulados:\n",
            "Cliente 1: 0.0134 unidades de tiempo\n",
            "Cliente 2: 0.4148 unidades de tiempo\n",
            "Cliente 3: 0.0307 unidades de tiempo\n",
            "Cliente 4: 1.2331 unidades de tiempo\n",
            "Cliente 5: 0.0178 unidades de tiempo\n",
            "Cliente 6: 0.4355 unidades de tiempo\n",
            "Cliente 7: 1.3444 unidades de tiempo\n",
            "Cliente 8: 0.2703 unidades de tiempo\n",
            "Cliente 9: 1.2378 unidades de tiempo\n",
            "Cliente 10: 0.3497 unidades de tiempo\n"
          ]
        }
      ],
      "source": [
        "# Generar una secuencia de tiempos entre llegadas\n",
        "tiempos_llegada = []\n",
        "for _ in range(10):\n",
        "    u = random.random()\n",
        "    t = -math.log(1 - u) / lambd\n",
        "    tiempos_llegada.append(t)\n",
        "\n",
        "print(\"Tiempos entre llegadas simulados:\")\n",
        "for i, t in enumerate(tiempos_llegada, 1):\n",
        "    print(f\"Cliente {i}: {t:.4f} unidades de tiempo\")"
      ]
    }
  ],
  "metadata": {
    "colab": {
      "provenance": [],
      "include_colab_link": true
    },
    "language_info": {
      "name": "python"
    },
    "kernelspec": {
      "name": "python3",
      "display_name": "Python 3"
    }
  },
  "nbformat": 4,
  "nbformat_minor": 5
}