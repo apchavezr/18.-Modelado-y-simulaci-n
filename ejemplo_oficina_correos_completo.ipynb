{
  "cells": [
    {
      "cell_type": "markdown",
      "metadata": {
        "id": "view-in-github",
        "colab_type": "text"
      },
      "source": [
        "<a href=\"https://colab.research.google.com/github/apchavezr/18.-Modelado-y-simulaci-n/blob/main/ejemplo_oficina_correos_completo.ipynb\" target=\"_parent\"><img src=\"https://colab.research.google.com/assets/colab-badge.svg\" alt=\"Open In Colab\"/></a>"
      ]
    },
    {
      "cell_type": "markdown",
      "id": "a647e5f7",
      "metadata": {
        "id": "a647e5f7"
      },
      "source": [
        "#  Ejemplo 2. Oficina de correos  \n",
        "\n",
        "Este cuaderno contiene el desarrollo de simulación discreta de una oficina de correos, donde se modela la llegada de clientes y su atención en una ventanilla. Se usan herramientas de simulación por eventos discretos con Python y `simpy`.\n"
      ]
    },
    {
      "cell_type": "markdown",
      "id": "4b1d3a9c",
      "metadata": {
        "id": "4b1d3a9c"
      },
      "source": [
        "## 1. Descripción del sistema\n",
        "\n",
        "Se simula una oficina de correos donde los clientes llegan a intervalos aleatorios entre **2 y 5 minutos**. Cada cliente debe ser atendido por una **única ventanilla** durante un tiempo también aleatorio entre **3 y 6 minutos**. La simulación se ejecuta durante una jornada de **8 horas** (480 minutos).\n",
        "\n",
        "El objetivo es evaluar:\n",
        "- Tiempo promedio de espera.\n",
        "- Utilización del recurso (ventanilla).\n"
      ]
    },
    {
      "cell_type": "markdown",
      "id": "8b0c2918",
      "metadata": {
        "id": "8b0c2918"
      },
      "source": [
        "## 2. Modelado del sistema\n",
        "\n",
        "| Componente              | Especificación                                |\n",
        "|-------------------------|-----------------------------------------------|\n",
        "| **Entidades**           | Clientes                                      |\n",
        "| **Recurso**             | Una ventanilla                                |\n",
        "| **Eventos**             | Llegada y salida del cliente                  |\n",
        "| **Atributos**           | Tiempos de llegada y atención                 |\n",
        "| **Reloj de simulación** | Minuto a minuto (avanza según eventos)        |\n"
      ]
    },
    {
      "cell_type": "code",
      "execution_count": 1,
      "id": "1b4a4802",
      "metadata": {
        "colab": {
          "base_uri": "https://localhost:8080/"
        },
        "id": "1b4a4802",
        "outputId": "15c57c4a-ddd5-4b10-f366-efc7fd622f75"
      },
      "outputs": [
        {
          "output_type": "stream",
          "name": "stdout",
          "text": [
            "Collecting simpy\n",
            "  Downloading simpy-4.1.1-py3-none-any.whl.metadata (6.1 kB)\n",
            "Downloading simpy-4.1.1-py3-none-any.whl (27 kB)\n",
            "Installing collected packages: simpy\n",
            "Successfully installed simpy-4.1.1\n"
          ]
        }
      ],
      "source": [
        "# Ejecutar si aún no tiene simpy instalado\n",
        "!pip install simpy\n"
      ]
    },
    {
      "cell_type": "markdown",
      "source": [
        "* *simpy* permite la simulación basada en eventos discretos.\n",
        "\n",
        "* *random* genera valores aleatorios para tiempos de llegada y atención.\n",
        "\n",
        "* *statistics* permite calcular promedios fácilmente.*texto en cursiva*"
      ],
      "metadata": {
        "id": "gLBO9QECIaew"
      },
      "id": "gLBO9QECIaew"
    },
    {
      "cell_type": "markdown",
      "source": [
        "# Definir la función *cliente*"
      ],
      "metadata": {
        "id": "B7j_hneeIJcU"
      },
      "id": "B7j_hneeIJcU"
    },
    {
      "cell_type": "code",
      "execution_count": 2,
      "id": "e63d4fff",
      "metadata": {
        "id": "e63d4fff"
      },
      "outputs": [],
      "source": [
        "import simpy\n",
        "import random\n",
        "import statistics\n",
        "import pandas as pd\n",
        "import matplotlib.pyplot as plt\n",
        "\n",
        "# Parámetros\n",
        "TIEMPO_SIMULACION = 480\n",
        "INTERVALO_LLEGADAS = (2, 5)\n",
        "INTERVALO_SERVICIO = (3, 6)\n",
        "REPLICAS = 30\n",
        "\n",
        "# Resultados\n",
        "resultados = {\n",
        "    \"tiempo_espera_promedio\": [],\n",
        "    \"utilizacion_recurso\": [],\n",
        "    \"clientes_atendidos\": [],\n",
        "    \"clientes_no_atendidos\": []\n",
        "}\n"
      ]
    },
    {
      "cell_type": "markdown",
      "source": [
        "**Generador de clientes**\n",
        "\n",
        "* *env.now* representa el tiempo actual en la simulación.\n",
        "\n",
        "* Se evalúa si el cliente alcanza a ser atendido antes del cierre (minuto 480).\n",
        "\n",
        "* Se registra el tiempo de espera y el uso del recurso."
      ],
      "metadata": {
        "id": "0C436fTmKz03"
      },
      "id": "0C436fTmKz03"
    },
    {
      "cell_type": "code",
      "execution_count": 3,
      "id": "a4ed72da",
      "metadata": {
        "id": "a4ed72da"
      },
      "outputs": [],
      "source": [
        "def cliente(env, nombre, ventanilla, stats):\n",
        "    llegada = env.now\n",
        "    with ventanilla.request() as req:\n",
        "        resultado = yield req | env.timeout(TIEMPO_SIMULACION - env.now)\n",
        "        espera = env.now - llegada\n",
        "        if req in resultado:\n",
        "            stats[\"tiempos_espera\"].append(espera)\n",
        "            duracion = random.uniform(*INTERVALO_SERVICIO)\n",
        "            stats[\"tiempo_ocupado\"] += duracion\n",
        "            yield env.timeout(duracion)\n",
        "        else:\n",
        "            stats[\"no_atendidos\"] += 1\n"
      ]
    },
    {
      "cell_type": "markdown",
      "source": [
        "**Generador de clientes**\n",
        "\n",
        "* Crea nuevos clientes en intervalos aleatorios entre 2 y 5 minutos.\n",
        "\n",
        "* Cada cliente es enviado como un proceso a la simulación."
      ],
      "metadata": {
        "id": "-Lx7lHrLLRkH"
      },
      "id": "-Lx7lHrLLRkH"
    },
    {
      "cell_type": "code",
      "execution_count": 4,
      "id": "e3a5a9c4",
      "metadata": {
        "id": "e3a5a9c4"
      },
      "outputs": [],
      "source": [
        "def generador_clientes(env, ventanilla, stats):\n",
        "    i = 0\n",
        "    while True:\n",
        "        yield env.timeout(random.uniform(*INTERVALO_LLEGADAS))\n",
        "        i += 1\n",
        "        env.process(cliente(env, f\"Cliente {i}\", ventanilla, stats))\n"
      ]
    },
    {
      "cell_type": "markdown",
      "source": [
        "**Ejecutar la simulación**"
      ],
      "metadata": {
        "id": "jxsy09NRLXRd"
      },
      "id": "jxsy09NRLXRd"
    },
    {
      "cell_type": "code",
      "execution_count": 5,
      "id": "2fd3ab2a",
      "metadata": {
        "id": "2fd3ab2a"
      },
      "outputs": [],
      "source": [
        "def ejecutar_simulacion():\n",
        "    env = simpy.Environment()\n",
        "    ventanilla = simpy.Resource(env, capacity=1)\n",
        "    stats = {\"tiempos_espera\": [], \"tiempo_ocupado\": 0, \"no_atendidos\": 0}\n",
        "    env.process(generador_clientes(env, ventanilla, stats))\n",
        "    env.run(until=TIEMPO_SIMULACION)\n",
        "    return {\n",
        "        \"tiempo_espera_promedio\": statistics.mean(stats[\"tiempos_espera\"]) if stats[\"tiempos_espera\"] else 0,\n",
        "        \"utilizacion_recurso\": stats[\"tiempo_ocupado\"] / TIEMPO_SIMULACION,\n",
        "        \"clientes_atendidos\": len(stats[\"tiempos_espera\"]),\n",
        "        \"clientes_no_atendidos\": stats[\"no_atendidos\"]\n",
        "    }\n"
      ]
    },
    {
      "cell_type": "markdown",
      "source": [
        "**Ejecución de múltiples réplicas**\n",
        "\n",
        "Se ejecutan 30 réplicas para observar la variabilidad de resultados y asegurar estimaciones confiables:"
      ],
      "metadata": {
        "id": "yDU8rpxILdbo"
      },
      "id": "yDU8rpxILdbo"
    },
    {
      "cell_type": "code",
      "execution_count": 6,
      "id": "1cc3cd12",
      "metadata": {
        "id": "1cc3cd12"
      },
      "outputs": [],
      "source": [
        "for _ in range(REPLICAS):\n",
        "    resultado = ejecutar_simulacion()\n",
        "    for k in resultados:\n",
        "        resultados[k].append(resultado[k])\n"
      ]
    },
    {
      "cell_type": "code",
      "execution_count": 7,
      "id": "8d5dd5c7",
      "metadata": {
        "colab": {
          "base_uri": "https://localhost:8080/",
          "height": 300
        },
        "id": "8d5dd5c7",
        "outputId": "e53b618e-b977-49d8-a050-39098708e026"
      },
      "outputs": [
        {
          "output_type": "execute_result",
          "data": {
            "text/plain": [
              "       tiempo_espera_promedio  utilizacion_recurso  clientes_atendidos  \\\n",
              "count               30.000000            30.000000           30.000000   \n",
              "mean                53.175925             0.996444          106.500000   \n",
              "std                  5.254589             0.003566            1.696853   \n",
              "min                 41.645111             0.989501          102.000000   \n",
              "25%                 49.829240             0.994017          106.000000   \n",
              "50%                 54.104839             0.996207          106.500000   \n",
              "75%                 56.654870             0.999186          107.750000   \n",
              "max                 64.365564             1.003485          110.000000   \n",
              "\n",
              "       clientes_no_atendidos  \n",
              "count                   30.0  \n",
              "mean                     0.0  \n",
              "std                      0.0  \n",
              "min                      0.0  \n",
              "25%                      0.0  \n",
              "50%                      0.0  \n",
              "75%                      0.0  \n",
              "max                      0.0  "
            ],
            "text/html": [
              "\n",
              "  <div id=\"df-2aecd154-db1f-4420-8df7-8a3ace2c37fa\" class=\"colab-df-container\">\n",
              "    <div>\n",
              "<style scoped>\n",
              "    .dataframe tbody tr th:only-of-type {\n",
              "        vertical-align: middle;\n",
              "    }\n",
              "\n",
              "    .dataframe tbody tr th {\n",
              "        vertical-align: top;\n",
              "    }\n",
              "\n",
              "    .dataframe thead th {\n",
              "        text-align: right;\n",
              "    }\n",
              "</style>\n",
              "<table border=\"1\" class=\"dataframe\">\n",
              "  <thead>\n",
              "    <tr style=\"text-align: right;\">\n",
              "      <th></th>\n",
              "      <th>tiempo_espera_promedio</th>\n",
              "      <th>utilizacion_recurso</th>\n",
              "      <th>clientes_atendidos</th>\n",
              "      <th>clientes_no_atendidos</th>\n",
              "    </tr>\n",
              "  </thead>\n",
              "  <tbody>\n",
              "    <tr>\n",
              "      <th>count</th>\n",
              "      <td>30.000000</td>\n",
              "      <td>30.000000</td>\n",
              "      <td>30.000000</td>\n",
              "      <td>30.0</td>\n",
              "    </tr>\n",
              "    <tr>\n",
              "      <th>mean</th>\n",
              "      <td>53.175925</td>\n",
              "      <td>0.996444</td>\n",
              "      <td>106.500000</td>\n",
              "      <td>0.0</td>\n",
              "    </tr>\n",
              "    <tr>\n",
              "      <th>std</th>\n",
              "      <td>5.254589</td>\n",
              "      <td>0.003566</td>\n",
              "      <td>1.696853</td>\n",
              "      <td>0.0</td>\n",
              "    </tr>\n",
              "    <tr>\n",
              "      <th>min</th>\n",
              "      <td>41.645111</td>\n",
              "      <td>0.989501</td>\n",
              "      <td>102.000000</td>\n",
              "      <td>0.0</td>\n",
              "    </tr>\n",
              "    <tr>\n",
              "      <th>25%</th>\n",
              "      <td>49.829240</td>\n",
              "      <td>0.994017</td>\n",
              "      <td>106.000000</td>\n",
              "      <td>0.0</td>\n",
              "    </tr>\n",
              "    <tr>\n",
              "      <th>50%</th>\n",
              "      <td>54.104839</td>\n",
              "      <td>0.996207</td>\n",
              "      <td>106.500000</td>\n",
              "      <td>0.0</td>\n",
              "    </tr>\n",
              "    <tr>\n",
              "      <th>75%</th>\n",
              "      <td>56.654870</td>\n",
              "      <td>0.999186</td>\n",
              "      <td>107.750000</td>\n",
              "      <td>0.0</td>\n",
              "    </tr>\n",
              "    <tr>\n",
              "      <th>max</th>\n",
              "      <td>64.365564</td>\n",
              "      <td>1.003485</td>\n",
              "      <td>110.000000</td>\n",
              "      <td>0.0</td>\n",
              "    </tr>\n",
              "  </tbody>\n",
              "</table>\n",
              "</div>\n",
              "    <div class=\"colab-df-buttons\">\n",
              "\n",
              "  <div class=\"colab-df-container\">\n",
              "    <button class=\"colab-df-convert\" onclick=\"convertToInteractive('df-2aecd154-db1f-4420-8df7-8a3ace2c37fa')\"\n",
              "            title=\"Convert this dataframe to an interactive table.\"\n",
              "            style=\"display:none;\">\n",
              "\n",
              "  <svg xmlns=\"http://www.w3.org/2000/svg\" height=\"24px\" viewBox=\"0 -960 960 960\">\n",
              "    <path d=\"M120-120v-720h720v720H120Zm60-500h600v-160H180v160Zm220 220h160v-160H400v160Zm0 220h160v-160H400v160ZM180-400h160v-160H180v160Zm440 0h160v-160H620v160ZM180-180h160v-160H180v160Zm440 0h160v-160H620v160Z\"/>\n",
              "  </svg>\n",
              "    </button>\n",
              "\n",
              "  <style>\n",
              "    .colab-df-container {\n",
              "      display:flex;\n",
              "      gap: 12px;\n",
              "    }\n",
              "\n",
              "    .colab-df-convert {\n",
              "      background-color: #E8F0FE;\n",
              "      border: none;\n",
              "      border-radius: 50%;\n",
              "      cursor: pointer;\n",
              "      display: none;\n",
              "      fill: #1967D2;\n",
              "      height: 32px;\n",
              "      padding: 0 0 0 0;\n",
              "      width: 32px;\n",
              "    }\n",
              "\n",
              "    .colab-df-convert:hover {\n",
              "      background-color: #E2EBFA;\n",
              "      box-shadow: 0px 1px 2px rgba(60, 64, 67, 0.3), 0px 1px 3px 1px rgba(60, 64, 67, 0.15);\n",
              "      fill: #174EA6;\n",
              "    }\n",
              "\n",
              "    .colab-df-buttons div {\n",
              "      margin-bottom: 4px;\n",
              "    }\n",
              "\n",
              "    [theme=dark] .colab-df-convert {\n",
              "      background-color: #3B4455;\n",
              "      fill: #D2E3FC;\n",
              "    }\n",
              "\n",
              "    [theme=dark] .colab-df-convert:hover {\n",
              "      background-color: #434B5C;\n",
              "      box-shadow: 0px 1px 3px 1px rgba(0, 0, 0, 0.15);\n",
              "      filter: drop-shadow(0px 1px 2px rgba(0, 0, 0, 0.3));\n",
              "      fill: #FFFFFF;\n",
              "    }\n",
              "  </style>\n",
              "\n",
              "    <script>\n",
              "      const buttonEl =\n",
              "        document.querySelector('#df-2aecd154-db1f-4420-8df7-8a3ace2c37fa button.colab-df-convert');\n",
              "      buttonEl.style.display =\n",
              "        google.colab.kernel.accessAllowed ? 'block' : 'none';\n",
              "\n",
              "      async function convertToInteractive(key) {\n",
              "        const element = document.querySelector('#df-2aecd154-db1f-4420-8df7-8a3ace2c37fa');\n",
              "        const dataTable =\n",
              "          await google.colab.kernel.invokeFunction('convertToInteractive',\n",
              "                                                    [key], {});\n",
              "        if (!dataTable) return;\n",
              "\n",
              "        const docLinkHtml = 'Like what you see? Visit the ' +\n",
              "          '<a target=\"_blank\" href=https://colab.research.google.com/notebooks/data_table.ipynb>data table notebook</a>'\n",
              "          + ' to learn more about interactive tables.';\n",
              "        element.innerHTML = '';\n",
              "        dataTable['output_type'] = 'display_data';\n",
              "        await google.colab.output.renderOutput(dataTable, element);\n",
              "        const docLink = document.createElement('div');\n",
              "        docLink.innerHTML = docLinkHtml;\n",
              "        element.appendChild(docLink);\n",
              "      }\n",
              "    </script>\n",
              "  </div>\n",
              "\n",
              "\n",
              "    <div id=\"df-ee279851-081b-463a-8580-0739cb2e88b4\">\n",
              "      <button class=\"colab-df-quickchart\" onclick=\"quickchart('df-ee279851-081b-463a-8580-0739cb2e88b4')\"\n",
              "                title=\"Suggest charts\"\n",
              "                style=\"display:none;\">\n",
              "\n",
              "<svg xmlns=\"http://www.w3.org/2000/svg\" height=\"24px\"viewBox=\"0 0 24 24\"\n",
              "     width=\"24px\">\n",
              "    <g>\n",
              "        <path d=\"M19 3H5c-1.1 0-2 .9-2 2v14c0 1.1.9 2 2 2h14c1.1 0 2-.9 2-2V5c0-1.1-.9-2-2-2zM9 17H7v-7h2v7zm4 0h-2V7h2v10zm4 0h-2v-4h2v4z\"/>\n",
              "    </g>\n",
              "</svg>\n",
              "      </button>\n",
              "\n",
              "<style>\n",
              "  .colab-df-quickchart {\n",
              "      --bg-color: #E8F0FE;\n",
              "      --fill-color: #1967D2;\n",
              "      --hover-bg-color: #E2EBFA;\n",
              "      --hover-fill-color: #174EA6;\n",
              "      --disabled-fill-color: #AAA;\n",
              "      --disabled-bg-color: #DDD;\n",
              "  }\n",
              "\n",
              "  [theme=dark] .colab-df-quickchart {\n",
              "      --bg-color: #3B4455;\n",
              "      --fill-color: #D2E3FC;\n",
              "      --hover-bg-color: #434B5C;\n",
              "      --hover-fill-color: #FFFFFF;\n",
              "      --disabled-bg-color: #3B4455;\n",
              "      --disabled-fill-color: #666;\n",
              "  }\n",
              "\n",
              "  .colab-df-quickchart {\n",
              "    background-color: var(--bg-color);\n",
              "    border: none;\n",
              "    border-radius: 50%;\n",
              "    cursor: pointer;\n",
              "    display: none;\n",
              "    fill: var(--fill-color);\n",
              "    height: 32px;\n",
              "    padding: 0;\n",
              "    width: 32px;\n",
              "  }\n",
              "\n",
              "  .colab-df-quickchart:hover {\n",
              "    background-color: var(--hover-bg-color);\n",
              "    box-shadow: 0 1px 2px rgba(60, 64, 67, 0.3), 0 1px 3px 1px rgba(60, 64, 67, 0.15);\n",
              "    fill: var(--button-hover-fill-color);\n",
              "  }\n",
              "\n",
              "  .colab-df-quickchart-complete:disabled,\n",
              "  .colab-df-quickchart-complete:disabled:hover {\n",
              "    background-color: var(--disabled-bg-color);\n",
              "    fill: var(--disabled-fill-color);\n",
              "    box-shadow: none;\n",
              "  }\n",
              "\n",
              "  .colab-df-spinner {\n",
              "    border: 2px solid var(--fill-color);\n",
              "    border-color: transparent;\n",
              "    border-bottom-color: var(--fill-color);\n",
              "    animation:\n",
              "      spin 1s steps(1) infinite;\n",
              "  }\n",
              "\n",
              "  @keyframes spin {\n",
              "    0% {\n",
              "      border-color: transparent;\n",
              "      border-bottom-color: var(--fill-color);\n",
              "      border-left-color: var(--fill-color);\n",
              "    }\n",
              "    20% {\n",
              "      border-color: transparent;\n",
              "      border-left-color: var(--fill-color);\n",
              "      border-top-color: var(--fill-color);\n",
              "    }\n",
              "    30% {\n",
              "      border-color: transparent;\n",
              "      border-left-color: var(--fill-color);\n",
              "      border-top-color: var(--fill-color);\n",
              "      border-right-color: var(--fill-color);\n",
              "    }\n",
              "    40% {\n",
              "      border-color: transparent;\n",
              "      border-right-color: var(--fill-color);\n",
              "      border-top-color: var(--fill-color);\n",
              "    }\n",
              "    60% {\n",
              "      border-color: transparent;\n",
              "      border-right-color: var(--fill-color);\n",
              "    }\n",
              "    80% {\n",
              "      border-color: transparent;\n",
              "      border-right-color: var(--fill-color);\n",
              "      border-bottom-color: var(--fill-color);\n",
              "    }\n",
              "    90% {\n",
              "      border-color: transparent;\n",
              "      border-bottom-color: var(--fill-color);\n",
              "    }\n",
              "  }\n",
              "</style>\n",
              "\n",
              "      <script>\n",
              "        async function quickchart(key) {\n",
              "          const quickchartButtonEl =\n",
              "            document.querySelector('#' + key + ' button');\n",
              "          quickchartButtonEl.disabled = true;  // To prevent multiple clicks.\n",
              "          quickchartButtonEl.classList.add('colab-df-spinner');\n",
              "          try {\n",
              "            const charts = await google.colab.kernel.invokeFunction(\n",
              "                'suggestCharts', [key], {});\n",
              "          } catch (error) {\n",
              "            console.error('Error during call to suggestCharts:', error);\n",
              "          }\n",
              "          quickchartButtonEl.classList.remove('colab-df-spinner');\n",
              "          quickchartButtonEl.classList.add('colab-df-quickchart-complete');\n",
              "        }\n",
              "        (() => {\n",
              "          let quickchartButtonEl =\n",
              "            document.querySelector('#df-ee279851-081b-463a-8580-0739cb2e88b4 button');\n",
              "          quickchartButtonEl.style.display =\n",
              "            google.colab.kernel.accessAllowed ? 'block' : 'none';\n",
              "        })();\n",
              "      </script>\n",
              "    </div>\n",
              "\n",
              "    </div>\n",
              "  </div>\n"
            ],
            "application/vnd.google.colaboratory.intrinsic+json": {
              "type": "dataframe",
              "summary": "{\n  \"name\": \"df\",\n  \"rows\": 8,\n  \"fields\": [\n    {\n      \"column\": \"tiempo_espera_promedio\",\n      \"properties\": {\n        \"dtype\": \"number\",\n        \"std\": 18.886094691773998,\n        \"min\": 5.254589030034116,\n        \"max\": 64.36556438034825,\n        \"num_unique_values\": 8,\n        \"samples\": [\n          53.17592478147729,\n          54.10483925295057,\n          30.0\n        ],\n        \"semantic_type\": \"\",\n        \"description\": \"\"\n      }\n    },\n    {\n      \"column\": \"utilizacion_recurso\",\n      \"properties\": {\n        \"dtype\": \"number\",\n        \"std\": 10.310301220573658,\n        \"min\": 0.0035664816235147097,\n        \"max\": 30.0,\n        \"num_unique_values\": 8,\n        \"samples\": [\n          0.9964437959587398,\n          0.9962069627703507,\n          30.0\n        ],\n        \"semantic_type\": \"\",\n        \"description\": \"\"\n      }\n    },\n    {\n      \"column\": \"clientes_atendidos\",\n      \"properties\": {\n        \"dtype\": \"number\",\n        \"std\": 42.678313263682014,\n        \"min\": 1.69685307107822,\n        \"max\": 110.0,\n        \"num_unique_values\": 7,\n        \"samples\": [\n          30.0,\n          106.5,\n          107.75\n        ],\n        \"semantic_type\": \"\",\n        \"description\": \"\"\n      }\n    },\n    {\n      \"column\": \"clientes_no_atendidos\",\n      \"properties\": {\n        \"dtype\": \"number\",\n        \"std\": 10.606601717798213,\n        \"min\": 0.0,\n        \"max\": 30.0,\n        \"num_unique_values\": 2,\n        \"samples\": [\n          0.0,\n          30.0\n        ],\n        \"semantic_type\": \"\",\n        \"description\": \"\"\n      }\n    }\n  ]\n}"
            }
          },
          "metadata": {},
          "execution_count": 7
        }
      ],
      "source": [
        "df = pd.DataFrame(resultados)\n",
        "df.describe()\n"
      ]
    },
    {
      "cell_type": "code",
      "execution_count": 8,
      "id": "0f1fea4a",
      "metadata": {
        "colab": {
          "base_uri": "https://localhost:8080/",
          "height": 418
        },
        "id": "0f1fea4a",
        "outputId": "8707146d-416d-4ac6-fdcf-dc976daaf439"
      },
      "outputs": [
        {
          "output_type": "display_data",
          "data": {
            "text/plain": [
              "<Figure size 1200x500 with 2 Axes>"
            ],
            "image/png": "[encoded data removed]"
          },
          "metadata": {}
        }
      ],
      "source": [
        "fig, axs = plt.subplots(1, 2, figsize=(12, 5))\n",
        "\n",
        "axs[0].hist(df[\"tiempo_espera_promedio\"], bins=10, color='lightblue', edgecolor='black')\n",
        "axs[0].set_title(\"Distribución del tiempo promedio de espera\")\n",
        "axs[0].set_xlabel(\"Minutos\")\n",
        "axs[0].set_ylabel(\"Frecuencia\")\n",
        "\n",
        "axs[1].hist(df[\"utilizacion_recurso\"], bins=10, color='lightcoral', edgecolor='black')\n",
        "axs[1].set_title(\"Distribución de utilización del recurso\")\n",
        "axs[1].set_xlabel(\"Proporción\")\n",
        "axs[1].set_ylabel(\"Frecuencia\")\n",
        "\n",
        "plt.tight_layout()\n",
        "plt.show()\n"
      ]
    },
    {
      "cell_type": "markdown",
      "id": "d606bcda",
      "metadata": {
        "id": "d606bcda"
      },
      "source": [
        "## ✅ Conclusiones\n",
        "\n",
        "- El sistema opera con alta utilización del recurso, lo cual puede provocar acumulación de clientes y tiempos de espera largos.\n",
        "- La simulación evidencia la necesidad de evaluar mejoras operativas, como incorporar más ventanillas o reducir los tiempos de servicio.\n",
        "- Experimentar con los parámetros ayuda a entender cómo pequeñas variaciones afectan el desempeño del sistema.\n",
        "\n",
        "Este ejemplo permite al estudiante apropiarse del ciclo de eventos y de la lógica de simulación de colas de atención.\n"
      ]
    }
  ],
  "metadata": {
    "colab": {
      "provenance": [],
      "include_colab_link": true
    },
    "language_info": {
      "name": "python"
    },
    "kernelspec": {
      "name": "python3",
      "display_name": "Python 3"
    }
  },
  "nbformat": 4,
  "nbformat_minor": 5
}