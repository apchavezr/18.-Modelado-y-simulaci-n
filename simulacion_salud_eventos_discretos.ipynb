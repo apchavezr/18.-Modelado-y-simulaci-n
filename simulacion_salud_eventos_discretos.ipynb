{
  "cells": [
    {
      "cell_type": "markdown",
      "metadata": {
        "id": "view-in-github",
        "colab_type": "text"
      },
      "source": [
        "<a href=\"https://colab.research.google.com/github/apchavezr/18.-Modelado-y-simulaci-n/blob/main/simulacion_salud_eventos_discretos.ipynb\" target=\"_parent\"><img src=\"https://colab.research.google.com/assets/colab-badge.svg\" alt=\"Open In Colab\"/></a>"
      ]
    },
    {
      "cell_type": "markdown",
      "metadata": {
        "id": "46w2-SoIClPy"
      },
      "source": [
        "# Simulación de un Centro de Salud con un Médico\n",
        "Este notebook implementa una simulación por eventos discretos utilizando `simpy`. Se analiza el comportamiento de un centro de atención donde los pacientes llegan de forma aleatoria y son atendidos por un único médico."
      ]
    },
    {
      "cell_type": "code",
      "execution_count": 2,
      "metadata": {
        "colab": {
          "base_uri": "https://localhost:8080/"
        },
        "id": "QfjfkUu-ClP3",
        "outputId": "c711ce59-03ad-4d97-e25d-67ac729a5b8b"
      },
      "outputs": [
        {
          "output_type": "stream",
          "name": "stdout",
          "text": [
            "Collecting simpy\n",
            "  Downloading simpy-4.1.1-py3-none-any.whl.metadata (6.1 kB)\n",
            "Downloading simpy-4.1.1-py3-none-any.whl (27 kB)\n",
            "Installing collected packages: simpy\n",
            "Successfully installed simpy-4.1.1\n"
          ]
        }
      ],
      "source": [
        "!pip install simpy"
      ]
    },
    {
      "cell_type": "code",
      "execution_count": 4,
      "metadata": {
        "colab": {
          "base_uri": "https://localhost:8080/"
        },
        "id": "04yHHP_mClP5",
        "outputId": "24db221f-ec60-4047-c90e-ea0db2256534"
      },
      "outputs": [
        {
          "output_type": "stream",
          "name": "stdout",
          "text": [
            "Tiempo promedio de espera: 26.99 minutos\n",
            "Utilización del médico: 97.95%\n",
            "Tiempo promedio de espera: 40.87 minutos\n",
            "Utilización del médico: 99.14%\n",
            "Tiempo promedio de espera: 32.65 minutos\n",
            "Utilización del médico: 100.15%\n",
            "Tiempo promedio de espera: 38.39 minutos\n",
            "Utilización del médico: 98.64%\n",
            "Tiempo promedio de espera: 33.33 minutos\n",
            "Utilización del médico: 99.20%\n",
            "Tiempo promedio de espera: 31.37 minutos\n",
            "Utilización del médico: 99.06%\n",
            "Tiempo promedio de espera: 44.41 minutos\n",
            "Utilización del médico: 98.88%\n",
            "Tiempo promedio de espera: 36.12 minutos\n",
            "Utilización del médico: 99.24%\n",
            "Tiempo promedio de espera: 35.41 minutos\n",
            "Utilización del médico: 99.82%\n",
            "Tiempo promedio de espera: 22.13 minutos\n",
            "Utilización del médico: 99.87%\n",
            "Tiempo promedio de espera: 44.64 minutos\n",
            "Utilización del médico: 98.34%\n",
            "Tiempo promedio de espera: 33.31 minutos\n",
            "Utilización del médico: 100.00%\n",
            "Tiempo promedio de espera: 34.46 minutos\n",
            "Utilización del médico: 99.97%\n",
            "Tiempo promedio de espera: 30.55 minutos\n",
            "Utilización del médico: 99.36%\n",
            "Tiempo promedio de espera: 29.83 minutos\n",
            "Utilización del médico: 99.79%\n",
            "Tiempo promedio de espera: 46.18 minutos\n",
            "Utilización del médico: 100.73%\n",
            "Tiempo promedio de espera: 27.58 minutos\n",
            "Utilización del médico: 98.67%\n",
            "Tiempo promedio de espera: 46.44 minutos\n",
            "Utilización del médico: 99.24%\n",
            "Tiempo promedio de espera: 25.51 minutos\n",
            "Utilización del médico: 98.85%\n",
            "Tiempo promedio de espera: 36.19 minutos\n",
            "Utilización del médico: 99.55%\n",
            "Tiempo promedio de espera: 38.43 minutos\n",
            "Utilización del médico: 98.14%\n",
            "Tiempo promedio de espera: 44.65 minutos\n",
            "Utilización del médico: 100.33%\n",
            "Tiempo promedio de espera: 38.75 minutos\n",
            "Utilización del médico: 99.47%\n",
            "Tiempo promedio de espera: 32.75 minutos\n",
            "Utilización del médico: 98.58%\n",
            "Tiempo promedio de espera: 31.96 minutos\n",
            "Utilización del médico: 98.78%\n",
            "Tiempo promedio de espera: 43.59 minutos\n",
            "Utilización del médico: 98.36%\n",
            "Tiempo promedio de espera: 29.56 minutos\n",
            "Utilización del médico: 99.16%\n",
            "Tiempo promedio de espera: 47.17 minutos\n",
            "Utilización del médico: 99.93%\n",
            "Tiempo promedio de espera: 42.27 minutos\n",
            "Utilización del médico: 99.40%\n",
            "Tiempo promedio de espera: 39.82 minutos\n",
            "Utilización del médico: 99.11%\n"
          ]
        }
      ],
      "source": [
        "import simpy\n",
        "import random\n",
        "import statistics\n",
        "import matplotlib.pyplot as plt\n",
        "\n",
        "# Parámetros\n",
        "TIEMPO_SIMULACION = 480\n",
        "INTERVALO_LLEGADAS = (5, 10)\n",
        "TIEMPO_ATENCION = (6, 12)\n",
        "N_REPLICAS = 30\n",
        "\n",
        "# Resultados\n",
        "tiempos_espera_promedio = []\n",
        "utilizacion_medico = []\n",
        "pacientes_no_atendidos = []\n",
        "pacientes_atendidos = []\n",
        "detalles_espera = []\n",
        "detalles_utilizacion = []\n",
        "\n",
        "def paciente(env, nombre, medico, stats):\n",
        "    llegada = env.now\n",
        "    with medico.request() as req:\n",
        "        resultado = yield req | env.timeout(TIEMPO_SIMULACION - env.now)\n",
        "        espera = env.now - llegada\n",
        "        if req in resultado:\n",
        "            stats['tiempos_espera'].append(espera)\n",
        "            duracion = random.uniform(*TIEMPO_ATENCION)\n",
        "            stats['tiempo_ocupado'] += duracion\n",
        "            yield env.timeout(duracion)\n",
        "        else:\n",
        "            stats['no_atendidos'] += 1\n",
        "\n",
        "def generador_pacientes(env, medico, stats):\n",
        "    i = 0\n",
        "    while True:\n",
        "        yield env.timeout(random.uniform(*INTERVALO_LLEGADAS))\n",
        "        i += 1\n",
        "        env.process(paciente(env, f\"Paciente {i}\", medico, stats))\n",
        "\n",
        "def ejecutar_simulacion():\n",
        "    env = simpy.Environment()\n",
        "    medico = simpy.Resource(env, capacity=1)\n",
        "    stats = {'tiempos_espera': [], 'tiempo_ocupado': 0, 'no_atendidos': 0}\n",
        "    env.process(generador_pacientes(env, medico, stats))\n",
        "    env.run(until=TIEMPO_SIMULACION)\n",
        "\n",
        "    promedio_espera = statistics.mean(stats['tiempos_espera']) if stats['tiempos_espera'] else 0\n",
        "    utilizacion = stats['tiempo_ocupado'] / TIEMPO_SIMULACION\n",
        "\n",
        "    tiempos_espera_promedio.append(promedio_espera)\n",
        "    utilizacion_medico.append(utilizacion)\n",
        "    pacientes_atendidos.append(len(stats['tiempos_espera']))\n",
        "    pacientes_no_atendidos.append(stats['no_atendidos'])\n",
        "    detalles_espera.append(promedio_espera)\n",
        "    detalles_utilizacion.append(utilizacion * 100)\n",
        "    print(f\"Tiempo promedio de espera: {promedio_espera:.2f} minutos\")\n",
        "    print(f\"Utilización del médico: {utilizacion * 100:.2f}%\")\n",
        "\n",
        "\n",
        "for _ in range(N_REPLICAS):\n",
        "    ejecutar_simulacion()\n"
      ]
    },
    {
      "cell_type": "code",
      "source": [
        "# Visualización\n",
        "fig, axs = plt.subplots(1, 2, figsize=(12, 5))\n",
        "\n",
        "axs[0].hist(detalles_espera, bins=10, color='skyblue', edgecolor='black')\n",
        "axs[0].set_title('Distribución del tiempo promedio de espera')\n",
        "axs[0].set_xlabel('Minutos')\n",
        "axs[0].set_ylabel('Frecuencia')\n",
        "\n",
        "axs[1].hist(detalles_utilizacion, bins=10, color='salmon', edgecolor='black')\n",
        "axs[1].set_title('Distribución de utilización del médico (%)')\n",
        "axs[1].set_xlabel('Porcentaje de uso')\n",
        "axs[1].set_ylabel('Frecuencia')\n",
        "\n",
        "plt.tight_layout()\n",
        "plt.show()"
      ],
      "metadata": {
        "colab": {
          "base_uri": "https://localhost:8080/",
          "height": 418
        },
        "id": "Tk8g4avnDOyg",
        "outputId": "664d6c40-454c-488c-a034-a9900023abc3"
      },
      "execution_count": null,
      "outputs": [
        {
          "output_type": "display_data",
          "data": {
            "text/plain": [
              "<Figure size 1200x500 with 2 Axes>"
            ],
            "image/png": "[encoded data removed]"
          },
          "metadata": {}
        }
      ]
    },
    {
      "cell_type": "markdown",
      "source": [
        "Las gráficas muestran los resultados de 30 réplicas de una simulación de atención en un centro de salud con un solo médico:\n",
        "\n",
        "* Distribución del tiempo promedio de espera (izquierda): la mayoría de los tiempos promedio se encuentran entre 30 y 45 minutos, con algunos valores extremos llegando hasta los 55 minutos. Esto sugiere una alta variabilidad en los tiempos de espera, posiblemente influenciada por picos de demanda o secuencias de llegadas muy cortas.\n",
        "\n",
        "* Distribución de utilización del médico (derecha): el uso del recurso médico es muy alto, oscilando entre el 98 % y el 100 % en la mayoría de las réplicas. Esta alta utilización indica que el médico está constantemente ocupado, lo cual puede explicar los tiempos de espera elevados y sugiere que el sistema opera al límite de su capacidad.\n"
      ],
      "metadata": {
        "id": "QyYhp5rvGsa9"
      }
    }
  ],
  "metadata": {
    "kernelspec": {
      "display_name": "Python 3",
      "language": "python",
      "name": "python3"
    },
    "language_info": {
      "name": "python",
      "version": "3.8"
    },
    "colab": {
      "provenance": [],
      "include_colab_link": true
    }
  },
  "nbformat": 4,
  "nbformat_minor": 0
}