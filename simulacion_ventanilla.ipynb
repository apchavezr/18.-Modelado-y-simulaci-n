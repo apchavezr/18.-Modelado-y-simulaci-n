{
  "cells": [
    {
      "cell_type": "markdown",
      "metadata": {
        "id": "view-in-github",
        "colab_type": "text"
      },
      "source": [
        "<a href=\"https://colab.research.google.com/github/apchavezr/18.-Modelado-y-simulaci-n/blob/main/simulacion_ventanilla.ipynb\" target=\"_parent\"><img src=\"https://colab.research.google.com/assets/colab-badge.svg\" alt=\"Open In Colab\"/></a>"
      ]
    },
    {
      "cell_type": "markdown",
      "metadata": {
        "id": "Bl82ZEOl5C32"
      },
      "source": [
        "# Simulación discreta: sistema de atención en ventanilla\n",
        "\n",
        "Este notebook simula un sistema con una única ventanilla donde los clientes llegan a intervalos aleatorios y son atendidos uno a uno. Los tiempos de llegada y de servicio siguen una distribución exponencial."
      ],
      "id": "Bl82ZEOl5C32"
    },
    {
      "cell_type": "code",
      "execution_count": 1,
      "metadata": {
        "id": "iCMNyL4H5C35"
      },
      "outputs": [],
      "source": [
        "import heapq\n",
        "import random\n",
        "\n",
        "# Parámetros de la simulación\n",
        "TIEMPO_MAXIMO = 5.0               # Tiempo total de simulación\n",
        "TASA_LLEGADAS = 1.0               # Lambda = 1 llegada por unidad de tiempo\n",
        "TASA_SERVICIO = 0.5               # Lambda = 0.5 servicio por unidad de tiempo\n",
        "\n",
        "# Estado del sistema\n",
        "reloj = 0.0\n",
        "servidor_ocupado = False\n",
        "cola = []\n",
        "\n",
        "# Lista de eventos futuros (FEL): tuplas (tiempo, tipo_evento)\n",
        "fel = []\n",
        "heapq.heapify(fel)\n",
        "\n",
        "# Métricas\n",
        "eventos_log = []"
      ],
      "id": "iCMNyL4H5C35"
    },
    {
      "cell_type": "code",
      "execution_count": 2,
      "metadata": {
        "id": "om8Rr_Om5C37"
      },
      "outputs": [],
      "source": [
        "def programar_evento(tiempo, tipo):\n",
        "    heapq.heappush(fel, (tiempo, tipo))\n",
        "\n",
        "def llegada():\n",
        "    global servidor_ocupado, reloj\n",
        "\n",
        "    eventos_log.append((reloj, 'Llegada', len(cola), 'Ocupado' if servidor_ocupado else 'Libre'))\n",
        "\n",
        "    t_llegada = reloj + random.expovariate(TASA_LLEGADAS)\n",
        "    if t_llegada <= TIEMPO_MAXIMO:\n",
        "        programar_evento(t_llegada, 'llegada')\n",
        "\n",
        "    if not servidor_ocupado:\n",
        "        servidor_ocupado = True\n",
        "        t_salida = reloj + random.expovariate(TASA_SERVICIO)\n",
        "        programar_evento(t_salida, 'salida')\n",
        "        eventos_log[-1] += (f\"Salida en {round(t_salida,1)}\",)\n",
        "    else:\n",
        "        cola.append(reloj)\n",
        "\n",
        "def salida():\n",
        "    global servidor_ocupado, reloj\n",
        "\n",
        "    eventos_log.append((reloj, 'Salida', len(cola), 'Ocupado'))\n",
        "\n",
        "    if cola:\n",
        "        tiempo_llegada = cola.pop(0)\n",
        "        t_salida = reloj + random.expovariate(TASA_SERVICIO)\n",
        "        programar_evento(t_salida, 'salida')\n",
        "        eventos_log[-1] += (f\"Salida en {round(t_salida,1)}\",)\n",
        "    else:\n",
        "        servidor_ocupado = False"
      ],
      "id": "om8Rr_Om5C37"
    },
    {
      "cell_type": "code",
      "execution_count": 3,
      "metadata": {
        "id": "hgBmI3Lg5C39"
      },
      "outputs": [],
      "source": [
        "# Programar primer evento de llegada\n",
        "programar_evento(0.0, 'llegada')\n",
        "\n",
        "# Bucle principal de simulación\n",
        "while fel:\n",
        "    reloj, tipo = heapq.heappop(fel)\n",
        "    if reloj > TIEMPO_MAXIMO:\n",
        "        break\n",
        "    if tipo == 'llegada':\n",
        "        llegada()\n",
        "    elif tipo == 'salida':\n",
        "        salida()"
      ],
      "id": "hgBmI3Lg5C39"
    },
    {
      "cell_type": "code",
      "execution_count": 4,
      "metadata": {
        "colab": {
          "base_uri": "https://localhost:8080/"
        },
        "id": "9-MxYIoD5C3-",
        "outputId": "ad34bf62-aa4f-4bdf-ae80-29df862d97ff"
      },
      "outputs": [
        {
          "output_type": "stream",
          "name": "stdout",
          "text": [
            "Tiempo   Evento     En cola  Servidor   Próximo evento \n",
            "0.0      Llegada    0        Libre      Salida en 0.1\n",
            "0.1      Salida     0        Ocupado    \n",
            "0.5      Llegada    0        Libre      Salida en 1.0\n",
            "1.0      Salida     0        Ocupado    \n",
            "4.5      Llegada    0        Libre      Salida en 6.0\n"
          ]
        }
      ],
      "source": [
        "print(f\"{'Tiempo':<8} {'Evento':<10} {'En cola':<8} {'Servidor':<10} {'Próximo evento':<15}\")\n",
        "for e in eventos_log:\n",
        "    print(f\"{e[0]:<8.1f} {e[1]:<10} {e[2]:<8} {e[3]:<10} {e[4] if len(e)>4 else ''}\")"
      ],
      "id": "9-MxYIoD5C3-"
    }
  ],
  "metadata": {
    "kernelspec": {
      "display_name": "Python 3",
      "language": "python",
      "name": "python3"
    },
    "language_info": {
      "name": "python",
      "version": "3.8"
    },
    "colab": {
      "provenance": [],
      "include_colab_link": true
    }
  },
  "nbformat": 4,
  "nbformat_minor": 5
}